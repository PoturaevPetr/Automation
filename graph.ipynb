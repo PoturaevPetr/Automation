{
 "cells": [
  {
   "cell_type": "code",
   "execution_count": null,
   "metadata": {},
   "outputs": [],
   "source": [
    "import numpy as np\n",
    "import matplotlib.pyplot as plt"
   ]
  },
  {
   "cell_type": "code",
   "execution_count": null,
   "metadata": {},
   "outputs": [],
   "source": [
    "data = np.genfromtxt(\"reports/Path/learn_1.csv\", delimiter=',')[2:, :]\n",
    "epochs = data[:, 1]\n",
    "ta = data[:, 2]\n",
    "va = data[:, 3]\n",
    "tl = data[:, 4]\n",
    "vl = data[:, 5]"
   ]
  },
  {
   "cell_type": "code",
   "execution_count": null,
   "metadata": {},
   "outputs": [],
   "source": [
    "fig, axs = plt.subplots(figsize=(12, 6))    \n",
    "axs.plot(epochs, ta, marker = 'o', ms=4, label=\"Train\")\n",
    "axs.plot(epochs, va, marker = 'o', ms=4, label=\"Validation\")\n",
    "axs.set_xlabel(\"Epochs, Num\")\n",
    "axs.legend()\n",
    "axs.set_ylabel(\"Value Accuracy (Mean IOU), %\")\n",
    "axs.set_xticks(np.arange(min(epochs), max(epochs)+1, 10.0))\n",
    "axs.grid()\n"
   ]
  },
  {
   "cell_type": "code",
   "execution_count": null,
   "metadata": {},
   "outputs": [],
   "source": [
    "fig, axs = plt.subplots(figsize=(12, 6))    \n",
    "\n",
    "axs.plot(epochs, tl, marker = 'o', ms=4, label=\"Train\")\n",
    "axs.plot(epochs, vl, marker = 'o', ms=4, label=\"Validation\")\n",
    "\n",
    "axs.set_xlabel(\"Epochs, Num\")\n",
    "axs.legend()\n",
    "axs.set_ylabel(\"Value Loss, %\")\n",
    "axs.set_xticks(np.arange(min(epochs), max(epochs)+1, 10.0))\n",
    "axs.grid()"
   ]
  }
 ],
 "metadata": {
  "kernelspec": {
   "display_name": "venv",
   "language": "python",
   "name": "python3"
  },
  "language_info": {
   "codemirror_mode": {
    "name": "ipython",
    "version": 3
   },
   "file_extension": ".py",
   "mimetype": "text/x-python",
   "name": "python",
   "nbconvert_exporter": "python",
   "pygments_lexer": "ipython3",
   "version": "3.9.6"
  }
 },
 "nbformat": 4,
 "nbformat_minor": 2
}
